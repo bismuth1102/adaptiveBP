{
 "cells": [
  {
   "cell_type": "code",
   "execution_count": 1,
   "metadata": {},
   "outputs": [],
   "source": [
    "# import networkx as nx\n",
    "# import matplotlib.pyplot as plt\n",
    "# import numpy as np\n",
    "# import warnings\n",
    "# import pickle\n",
    "# import os\n",
    "# import time\n",
    "# import math\n",
    "\n",
    "# from collections import deque\n",
    "from XGraph import *"
   ]
  },
  {
   "cell_type": "code",
   "execution_count": 2,
   "metadata": {},
   "outputs": [
    {
     "data": {
      "image/png": "[encoded data removed]",
      "text/plain": [
       "<Figure size 432x288 with 1 Axes>"
      ]
     },
     "metadata": {},
     "output_type": "display_data"
    }
   ],
   "source": [
    "g = Graph()\n",
    "g.create_random_graph(\"s\")\n",
    "g.show_graph(True)"
   ]
  },
  {
   "cell_type": "code",
   "execution_count": 3,
   "metadata": {},
   "outputs": [],
   "source": [
    "res,label = g.bfs(5)"
   ]
  },
  {
   "cell_type": "code",
   "execution_count": 4,
   "metadata": {},
   "outputs": [],
   "source": [
    "res,E,D,H = g.Euler_tour(5)"
   ]
  },
  {
   "cell_type": "markdown",
   "metadata": {},
   "source": [
    "## BP_generator"
   ]
  },
  {
   "cell_type": "code",
   "execution_count": 5,
   "metadata": {},
   "outputs": [
    {
     "ename": "NameError",
     "evalue": "name 'BP_generator' is not defined",
     "output_type": "error",
     "traceback": [
      "\u001b[0;31m---------------------------------------------------------------------------\u001b[0m",
      "\u001b[0;31mNameError\u001b[0m                                 Traceback (most recent call last)",
      "\u001b[0;32m<ipython-input-5-cf9aa98bc615>\u001b[0m in \u001b[0;36m<module>\u001b[0;34m\u001b[0m\n\u001b[1;32m      3\u001b[0m    \u001b[0mThe\u001b[0m \u001b[0mroot\u001b[0m \u001b[0mhas\u001b[0m \u001b[0mdegree\u001b[0m \u001b[0mr\u001b[0m \u001b[0;32mand\u001b[0m \u001b[0mall\u001b[0m \u001b[0mother\u001b[0m \u001b[0minternal\u001b[0m \u001b[0mnodes\u001b[0m \u001b[0mhave\u001b[0m \u001b[0mdegree\u001b[0m \u001b[0mr\u001b[0m\u001b[0;34m+\u001b[0m\u001b[0;36m1.\u001b[0m\u001b[0;34m\u001b[0m\u001b[0;34m\u001b[0m\u001b[0m\n\u001b[1;32m      4\u001b[0m \"\"\"\n\u001b[0;32m----> 5\u001b[0;31m \u001b[0mbp\u001b[0m \u001b[0;34m=\u001b[0m \u001b[0mBP_generator\u001b[0m\u001b[0;34m(\u001b[0m\u001b[0mnode_num\u001b[0m\u001b[0;34m=\u001b[0m\u001b[0;34m's'\u001b[0m\u001b[0;34m,\u001b[0m\u001b[0meps\u001b[0m\u001b[0;34m=\u001b[0m\u001b[0;36m1e-5\u001b[0m\u001b[0;34m,\u001b[0m \u001b[0mprior\u001b[0m\u001b[0;34m=\u001b[0m\u001b[0;34m'random'\u001b[0m\u001b[0;34m)\u001b[0m \u001b[0;31m# node_num='s', balanced_tree(r=2, h=3)  r: Branching factor of the tree, h: Height of the tree\u001b[0m\u001b[0;34m\u001b[0m\u001b[0;34m\u001b[0m\u001b[0m\n\u001b[0m",
      "\u001b[0;31mNameError\u001b[0m: name 'BP_generator' is not defined"
     ]
    }
   ],
   "source": [
    "\"\"\"node_num='s', balanced_tree(r=2, h=3)  \n",
    "   r: Branching factor of the tree, h: Height of the tree\n",
    "   The root has degree r and all other internal nodes have degree r+1.\n",
    "\"\"\"\n",
    "bp = BP_Generator(node_num='s',eps=1e-5, prior='random') # node_num='s', balanced_tree(r=2, h=3)  r: Branching factor of the tree, h: Height of the tree"
   ]
  },
  {
   "cell_type": "code",
   "execution_count": 8,
   "metadata": {},
   "outputs": [
    {
     "name": "stderr",
     "output_type": "stream",
     "text": [
      "/Users/chenwang/miniconda3/envs/gameGym/lib/python3.6/site-packages/networkx/drawing/nx_pylab.py:611: MatplotlibDeprecationWarning: isinstance(..., numbers.Number)\n",
      "  if cb.is_numlike(alpha):\n"
     ]
    },
    {
     "data": {
      "image/png": "[encoded data removed]",
      "text/plain": [
       "<Figure size 432x288 with 1 Axes>"
      ]
     },
     "metadata": {},
     "output_type": "display_data"
    }
   ],
   "source": [
    "bp.graph.show_graph(with_labels=True)"
   ]
  },
  {
   "cell_type": "code",
   "execution_count": 9,
   "metadata": {},
   "outputs": [
    {
     "data": {
      "text/plain": [
       "{0: {'neighbors': [1, 2], 'prior': 0.40554704108786344},\n",
       " 1: {'neighbors': [0, 3, 4], 'prior': 0.5991146811230649},\n",
       " 2: {'neighbors': [0, 5, 6], 'prior': 0.9288068705827581},\n",
       " 3: {'neighbors': [1, 7, 8], 'prior': 0.8473669744876515},\n",
       " 4: {'neighbors': [1, 9, 10], 'prior': 0.20540711640462872},\n",
       " 5: {'neighbors': [2, 11, 12], 'prior': 0.454685253875995},\n",
       " 6: {'neighbors': [2, 13, 14], 'prior': 0.42449316529382364},\n",
       " 7: {'neighbors': [3], 'prior': 0.8853683013852508},\n",
       " 8: {'neighbors': [3], 'prior': 0.5941567289946722},\n",
       " 9: {'neighbors': [4], 'prior': 0.7078703619603646},\n",
       " 10: {'neighbors': [4], 'prior': 0.4636117008953975},\n",
       " 11: {'neighbors': [5], 'prior': 0.3478916696003562},\n",
       " 12: {'neighbors': [5], 'prior': 0.11259813170817601},\n",
       " 13: {'neighbors': [6], 'prior': 0.6037109847314875},\n",
       " 14: {'neighbors': [6], 'prior': 0.13351531726124732}}"
      ]
     },
     "execution_count": 9,
     "metadata": {},
     "output_type": "execute_result"
    }
   ],
   "source": [
    "bp.graph.nodes"
   ]
  },
  {
   "cell_type": "code",
   "execution_count": 10,
   "metadata": {},
   "outputs": [
    {
     "data": {
      "text/plain": [
       "{(0, 1): {'potential_type': 1},\n",
       " (0, 2): {'potential_type': 1},\n",
       " (1, 3): {'potential_type': 1},\n",
       " (1, 4): {'potential_type': 1},\n",
       " (2, 5): {'potential_type': 1},\n",
       " (2, 6): {'potential_type': 1},\n",
       " (3, 7): {'potential_type': 1},\n",
       " (3, 8): {'potential_type': 1},\n",
       " (4, 9): {'potential_type': 1},\n",
       " (4, 10): {'potential_type': 1},\n",
       " (5, 11): {'potential_type': 1},\n",
       " (5, 12): {'potential_type': 1},\n",
       " (6, 13): {'potential_type': 1},\n",
       " (6, 14): {'potential_type': 1}}"
      ]
     },
     "execution_count": 10,
     "metadata": {},
     "output_type": "execute_result"
    }
   ],
   "source": [
    "bp.graph.edges"
   ]
  },
  {
   "cell_type": "code",
   "execution_count": 11,
   "metadata": {},
   "outputs": [
    {
     "data": {
      "text/plain": [
       "{1: array([[9.9999e-01, 1.0000e-05],\n",
       "        [1.0000e-05, 9.9999e-01]])}"
      ]
     },
     "execution_count": 11,
     "metadata": {},
     "output_type": "execute_result"
    }
   ],
   "source": [
    "bp.potential"
   ]
  },
  {
   "cell_type": "code",
   "execution_count": 12,
   "metadata": {},
   "outputs": [
    {
     "name": "stdout",
     "output_type": "stream",
     "text": [
      "Saved file Node_1564075232.object\n",
      "Saved file Edge_1564075232.object\n",
      "Saved file potential_1564075232.object\n"
     ]
    }
   ],
   "source": [
    "bp.save_graph()"
   ]
  },
  {
   "cell_type": "code",
   "execution_count": 13,
   "metadata": {},
   "outputs": [],
   "source": [
    "node = bp.load_graph()"
   ]
  },
  {
   "cell_type": "code",
   "execution_count": 14,
   "metadata": {},
   "outputs": [
    {
     "data": {
      "text/plain": [
       "{0: {'neighbors': [1, 2], 'prior': 0.40554704108786344},\n",
       " 1: {'neighbors': [0, 3, 4], 'prior': 0.5991146811230649},\n",
       " 2: {'neighbors': [0, 5, 6], 'prior': 0.9288068705827581},\n",
       " 3: {'neighbors': [1, 7, 8], 'prior': 0.8473669744876515},\n",
       " 4: {'neighbors': [1, 9, 10], 'prior': 0.20540711640462872},\n",
       " 5: {'neighbors': [2, 11, 12], 'prior': 0.454685253875995},\n",
       " 6: {'neighbors': [2, 13, 14], 'prior': 0.42449316529382364},\n",
       " 7: {'neighbors': [3], 'prior': 0.8853683013852508},\n",
       " 8: {'neighbors': [3], 'prior': 0.5941567289946722},\n",
       " 9: {'neighbors': [4], 'prior': 0.7078703619603646},\n",
       " 10: {'neighbors': [4], 'prior': 0.4636117008953975},\n",
       " 11: {'neighbors': [5], 'prior': 0.3478916696003562},\n",
       " 12: {'neighbors': [5], 'prior': 0.11259813170817601},\n",
       " 13: {'neighbors': [6], 'prior': 0.6037109847314875},\n",
       " 14: {'neighbors': [6], 'prior': 0.13351531726124732}}"
      ]
     },
     "execution_count": 14,
     "metadata": {},
     "output_type": "execute_result"
    }
   ],
   "source": [
    "node.n_dict"
   ]
  },
  {
   "cell_type": "code",
   "execution_count": null,
   "metadata": {},
   "outputs": [],
   "source": [
    "bp.graph.show_graph(with_labels=True)"
   ]
  },
  {
   "cell_type": "markdown",
   "metadata": {},
   "source": [
    "## Graph"
   ]
  },
  {
   "cell_type": "code",
   "execution_count": 15,
   "metadata": {},
   "outputs": [],
   "source": [
    "G = graph()\n",
    "G.create_graph([('A','B'),('A','C'),('B','D'),('B','E'),('D','G'),('D','H'),('C','F'),('F','I')])"
   ]
  },
  {
   "cell_type": "code",
   "execution_count": 16,
   "metadata": {},
   "outputs": [
    {
     "data": {
      "image/png": "[encoded data removed]",
      "text/plain": [
       "<Figure size 432x288 with 1 Axes>"
      ]
     },
     "metadata": {},
     "output_type": "display_data"
    }
   ],
   "source": [
    "G.show_graph(with_labels=True)"
   ]
  },
  {
   "cell_type": "code",
   "execution_count": 17,
   "metadata": {},
   "outputs": [
    {
     "data": {
      "text/plain": [
       "([1, 2, 4, 7, 4, 8, 4, 2, 5, 2, 1, 3, 6, 9, 6, 3, 1],\n",
       " [0, 1, 2, 3, 2, 3, 2, 1, 2, 1, 0, 1, 2, 3, 2, 1, 0])"
      ]
     },
     "execution_count": 17,
     "metadata": {},
     "output_type": "execute_result"
    }
   ],
   "source": [
    "G.Euler_tour(start='A')"
   ]
  },
  {
   "cell_type": "code",
   "execution_count": 18,
   "metadata": {},
   "outputs": [
    {
     "data": {
      "text/plain": [
       "{'A': 1, 'B': 2, 'C': 3, 'D': 4, 'E': 5, 'F': 6, 'G': 7, 'H': 8, 'I': 9}"
      ]
     },
     "execution_count": 18,
     "metadata": {},
     "output_type": "execute_result"
    }
   ],
   "source": [
    "G.bfs_label"
   ]
  },
  {
   "cell_type": "code",
   "execution_count": 19,
   "metadata": {},
   "outputs": [
    {
     "data": {
      "text/plain": [
       "{1: 0, 2: 1, 3: 1, 4: 2, 5: 2, 6: 2, 7: 3, 8: 3, 9: 3}"
      ]
     },
     "execution_count": 19,
     "metadata": {},
     "output_type": "execute_result"
    }
   ],
   "source": [
    "G.degree"
   ]
  },
  {
   "cell_type": "code",
   "execution_count": 20,
   "metadata": {},
   "outputs": [
    {
     "data": {
      "text/plain": [
       "[1, 2, 4, 7, 4, 8, 4, 2, 5, 2, 1, 3, 6, 9, 6, 3, 1]"
      ]
     },
     "execution_count": 20,
     "metadata": {},
     "output_type": "execute_result"
    }
   ],
   "source": [
    "G.E"
   ]
  },
  {
   "cell_type": "code",
   "execution_count": 21,
   "metadata": {},
   "outputs": [
    {
     "data": {
      "text/plain": [
       "[0, 1, 2, 3, 2, 3, 2, 1, 2, 1, 0, 1, 2, 3, 2, 1, 0]"
      ]
     },
     "execution_count": 21,
     "metadata": {},
     "output_type": "execute_result"
    }
   ],
   "source": [
    "G.D"
   ]
  },
  {
   "cell_type": "code",
   "execution_count": 22,
   "metadata": {},
   "outputs": [
    {
     "data": {
      "text/plain": [
       "[0, 1, 11, 2, 8, 12, 3, 5, 13]"
      ]
     },
     "execution_count": 22,
     "metadata": {},
     "output_type": "execute_result"
    }
   ],
   "source": [
    "G.first_occurrence()"
   ]
  },
  {
   "cell_type": "code",
   "execution_count": 23,
   "metadata": {},
   "outputs": [
    {
     "data": {
      "text/plain": [
       "[0, 1, 11, 2, 8, 12, 3, 5, 13]"
      ]
     },
     "execution_count": 23,
     "metadata": {},
     "output_type": "execute_result"
    }
   ],
   "source": [
    "G.H"
   ]
  },
  {
   "cell_type": "code",
   "execution_count": 24,
   "metadata": {},
   "outputs": [
    {
     "data": {
      "text/plain": [
       "array([[0, 0, 0, 0, 0, 0],\n",
       "       [1, 1, 1, 1, 0, 0],\n",
       "       [2, 2, 2, 1, 0, 0],\n",
       "       [3, 2, 2, 0, 0, 0],\n",
       "       [2, 2, 1, 0, 0, 0],\n",
       "       [3, 2, 1, 0, 0, 0],\n",
       "       [2, 1, 1, 0, 0, 0],\n",
       "       [1, 1, 0, 0, 0, 0],\n",
       "       [2, 1, 0, 0, 0, 0],\n",
       "       [1, 0, 0, 0, 0, 0],\n",
       "       [0, 0, 0, 0, 0, 0],\n",
       "       [1, 1, 1, 0, 0, 0],\n",
       "       [2, 2, 1, 0, 0, 0],\n",
       "       [3, 2, 0, 0, 0, 0],\n",
       "       [2, 1, 0, 0, 0, 0],\n",
       "       [1, 0, 0, 0, 0, 0],\n",
       "       [0, 0, 0, 0, 0, 0]])"
      ]
     },
     "execution_count": 24,
     "metadata": {},
     "output_type": "execute_result"
    }
   ],
   "source": [
    "G.RMQ()"
   ]
  },
  {
   "cell_type": "code",
   "execution_count": 25,
   "metadata": {},
   "outputs": [
    {
     "data": {
      "text/plain": [
       "array([[0, 0, 0, 0, 0, 0],\n",
       "       [1, 1, 1, 1, 0, 0],\n",
       "       [2, 2, 2, 1, 0, 0],\n",
       "       [3, 2, 2, 0, 0, 0],\n",
       "       [2, 2, 1, 0, 0, 0],\n",
       "       [3, 2, 1, 0, 0, 0],\n",
       "       [2, 1, 1, 0, 0, 0],\n",
       "       [1, 1, 0, 0, 0, 0],\n",
       "       [2, 1, 0, 0, 0, 0],\n",
       "       [1, 0, 0, 0, 0, 0],\n",
       "       [0, 0, 0, 0, 0, 0],\n",
       "       [1, 1, 1, 0, 0, 0],\n",
       "       [2, 2, 1, 0, 0, 0],\n",
       "       [3, 2, 0, 0, 0, 0],\n",
       "       [2, 1, 0, 0, 0, 0],\n",
       "       [1, 0, 0, 0, 0, 0],\n",
       "       [0, 0, 0, 0, 0, 0]])"
      ]
     },
     "execution_count": 25,
     "metadata": {},
     "output_type": "execute_result"
    }
   ],
   "source": [
    "G.M_matrix"
   ]
  },
  {
   "cell_type": "code",
   "execution_count": 26,
   "metadata": {},
   "outputs": [
    {
     "data": {
      "text/plain": [
       "'D'"
      ]
     },
     "execution_count": 26,
     "metadata": {},
     "output_type": "execute_result"
    }
   ],
   "source": [
    "G.LCA('H','G')"
   ]
  },
  {
   "cell_type": "code",
   "execution_count": 32,
   "metadata": {},
   "outputs": [
    {
     "data": {
      "text/plain": [
       "['D']"
      ]
     },
     "execution_count": 32,
     "metadata": {},
     "output_type": "execute_result"
    }
   ],
   "source": [
    "G.LCA_shortest_path('D','D')"
   ]
  },
  {
   "cell_type": "code",
   "execution_count": null,
   "metadata": {},
   "outputs": [],
   "source": []
  }
 ],
 "metadata": {
  "kernelspec": {
   "display_name": "Python 3",
   "language": "python",
   "name": "python3"
  },
  "language_info": {
   "codemirror_mode": {
    "name": "ipython",
    "version": 3
   },
   "file_extension": ".py",
   "mimetype": "text/x-python",
   "name": "python",
   "nbconvert_exporter": "python",
   "pygments_lexer": "ipython3",
   "version": "3.7.2"
  }
 },
 "nbformat": 4,
 "nbformat_minor": 2
}
