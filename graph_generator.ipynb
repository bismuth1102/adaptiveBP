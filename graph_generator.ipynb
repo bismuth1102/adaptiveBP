{
 "cells": [
  {
   "cell_type": "code",
   "execution_count": 1,
   "metadata": {},
   "outputs": [],
   "source": [
    "# import networkx as nx\n",
    "# import matplotlib.pyplot as plt\n",
    "# import numpy as np\n",
    "# import warnings\n",
    "# import pickle\n",
    "# import os\n",
    "# import time\n",
    "# import math\n",
    "\n",
    "# from collections import deque\n",
    "from XGraph import *"
   ]
  },
  {
   "cell_type": "code",
   "execution_count": 2,
   "metadata": {},
   "outputs": [
    {
     "data": {
      "image/png": "[encoded data removed]",
      "text/plain": [
       "<Figure size 432x288 with 1 Axes>"
      ]
     },
     "metadata": {},
     "output_type": "display_data"
    }
   ],
   "source": [
    "g = Graph()\n",
    "g.create_random_graph(\"s\")\n",
    "g.show_graph(True)"
   ]
  },
  {
   "cell_type": "code",
   "execution_count": 3,
   "metadata": {},
   "outputs": [],
   "source": [
    "res,label = g.bfs(5)"
   ]
  },
  {
   "cell_type": "code",
   "execution_count": 4,
   "metadata": {},
   "outputs": [],
   "source": [
    "res,E,D,H = g.Euler_tour(5)"
   ]
  },
  {
   "cell_type": "markdown",
   "metadata": {},
   "source": [
    "## BP_generator"
   ]
  },
  {
   "cell_type": "code",
   "execution_count": 6,
   "metadata": {},
   "outputs": [],
   "source": [
    "\"\"\"node_num='s', balanced_tree(r=2, h=3)  \n",
    "   r: Branching factor of the tree, h: Height of the tree\n",
    "   The root has degree r and all other internal nodes have degree r+1.\n",
    "\"\"\"\n",
    "bp = BP_Generator() # node_num='s', balanced_tree(r=2, h=3)  r: Branching factor of the tree, h: Height of the tree"
   ]
  },
  {
   "cell_type": "code",
   "execution_count": 8,
   "metadata": {},
   "outputs": [
    {
     "data": {
      "image/png": "[encoded data removed]",
      "text/plain": [
       "<Figure size 432x288 with 1 Axes>"
      ]
     },
     "metadata": {},
     "output_type": "display_data"
    }
   ],
   "source": [
    "bp.graph.show_graph(with_labels=True)"
   ]
  },
  {
   "cell_type": "code",
   "execution_count": 9,
   "metadata": {},
   "outputs": [
    {
     "data": {
      "text/plain": [
       "{0: {'neighbors': [1, 2],\n",
       "  'prior': array([-1.42215504, -0.2760087 ]),\n",
       "  'outgoing': {1: array([0., 0.]), 2: array([0., 0.])}},\n",
       " 1: {'neighbors': [0, 3, 4],\n",
       "  'prior': array([-0.52341126, -0.89770438]),\n",
       "  'outgoing': {0: array([0., 0.]), 3: array([0., 0.]), 4: array([0., 0.])}},\n",
       " 2: {'neighbors': [0, 5, 6],\n",
       "  'prior': array([-0.23937935, -1.54700894]),\n",
       "  'outgoing': {0: array([0., 0.]), 5: array([0., 0.]), 6: array([0., 0.])}},\n",
       " 3: {'neighbors': [1, 7, 8],\n",
       "  'prior': array([-0.88110689, -0.53498862]),\n",
       "  'outgoing': {1: array([0., 0.]), 7: array([0., 0.]), 8: array([0., 0.])}},\n",
       " 4: {'neighbors': [1, 9, 10],\n",
       "  'prior': array([-1.06122702, -0.42469527]),\n",
       "  'outgoing': {1: array([0., 0.]), 9: array([0., 0.]), 10: array([0., 0.])}},\n",
       " 5: {'neighbors': [2, 11, 12],\n",
       "  'prior': array([-1.02048081, -0.44694608]),\n",
       "  'outgoing': {2: array([0., 0.]), 11: array([0., 0.]), 12: array([0., 0.])}},\n",
       " 6: {'neighbors': [2, 13, 14],\n",
       "  'prior': array([-0.20783739, -1.67311877]),\n",
       "  'outgoing': {2: array([0., 0.]), 13: array([0., 0.]), 14: array([0., 0.])}},\n",
       " 7: {'neighbors': [3],\n",
       "  'prior': array([-0.39995935, -1.10971558]),\n",
       "  'outgoing': {3: array([0., 0.])}},\n",
       " 8: {'neighbors': [3],\n",
       "  'prior': array([-0.26456668, -1.45903051]),\n",
       "  'outgoing': {3: array([0., 0.])}},\n",
       " 9: {'neighbors': [4],\n",
       "  'prior': array([-0.64353981, -0.74534448]),\n",
       "  'outgoing': {4: array([0., 0.])}},\n",
       " 10: {'neighbors': [4],\n",
       "  'prior': array([-0.20124275, -1.70217788]),\n",
       "  'outgoing': {4: array([0., 0.])}},\n",
       " 11: {'neighbors': [5],\n",
       "  'prior': array([-3.36879814, -0.03503771]),\n",
       "  'outgoing': {5: array([0., 0.])}},\n",
       " 12: {'neighbors': [5],\n",
       "  'prior': array([-1.74762334, -0.19138745]),\n",
       "  'outgoing': {5: array([0., 0.])}},\n",
       " 13: {'neighbors': [6],\n",
       "  'prior': array([-2.39624197, -0.09547566]),\n",
       "  'outgoing': {6: array([0., 0.])}},\n",
       " 14: {'neighbors': [6],\n",
       "  'prior': array([-0.64148525, -0.74762416]),\n",
       "  'outgoing': {6: array([0., 0.])}}}"
      ]
     },
     "execution_count": 9,
     "metadata": {},
     "output_type": "execute_result"
    }
   ],
   "source": [
    "bp.graph.nodes"
   ]
  },
  {
   "cell_type": "code",
   "execution_count": 13,
   "metadata": {},
   "outputs": [
    {
     "data": {
      "text/plain": [
       "{(0, 1): {'p_type': 1},\n",
       " (0, 2): {'p_type': 1},\n",
       " (1, 3): {'p_type': 1},\n",
       " (1, 4): {'p_type': 1},\n",
       " (2, 5): {'p_type': 1},\n",
       " (2, 6): {'p_type': 1},\n",
       " (3, 7): {'p_type': 1},\n",
       " (3, 8): {'p_type': 1},\n",
       " (4, 9): {'p_type': 1},\n",
       " (4, 10): {'p_type': 1},\n",
       " (5, 11): {'p_type': 1},\n",
       " (5, 12): {'p_type': 1},\n",
       " (6, 13): {'p_type': 1},\n",
       " (6, 14): {'p_type': 1}}"
      ]
     },
     "execution_count": 13,
     "metadata": {},
     "output_type": "execute_result"
    }
   ],
   "source": [
    "bp.graph.edges"
   ]
  },
  {
   "cell_type": "code",
   "execution_count": 14,
   "metadata": {},
   "outputs": [
    {
     "data": {
      "text/plain": [
       "{1: array([[9.9999e-01, 1.0000e-05],\n",
       "        [1.0000e-05, 9.9999e-01]])}"
      ]
     },
     "execution_count": 14,
     "metadata": {},
     "output_type": "execute_result"
    }
   ],
   "source": [
    "bp.potential"
   ]
  },
  {
   "cell_type": "code",
   "execution_count": 15,
   "metadata": {
    "scrolled": true
   },
   "outputs": [
    {
     "name": "stdout",
     "output_type": "stream",
     "text": [
      "Saved file Node_1571273583.object\n",
      "Saved file Edge_1571273583.object\n",
      "Saved file potential_1571273583.object\n"
     ]
    }
   ],
   "source": [
    "bp.save_graph()"
   ]
  },
  {
   "cell_type": "code",
   "execution_count": 17,
   "metadata": {
    "scrolled": false
   },
   "outputs": [
    {
     "ename": "IndexError",
     "evalue": "list index out of range",
     "output_type": "error",
     "traceback": [
      "\u001b[0;31m---------------------------------------------------------------------------\u001b[0m",
      "\u001b[0;31mIndexError\u001b[0m                                Traceback (most recent call last)",
      "\u001b[0;32m<ipython-input-17-787fb0e53acc>\u001b[0m in \u001b[0;36m<module>\u001b[0;34m\u001b[0m\n\u001b[0;32m----> 1\u001b[0;31m \u001b[0mnode\u001b[0m \u001b[0;34m=\u001b[0m \u001b[0mbp\u001b[0m\u001b[0;34m.\u001b[0m\u001b[0mload_graph\u001b[0m\u001b[0;34m(\u001b[0m\u001b[0;34m)\u001b[0m\u001b[0;34m\u001b[0m\u001b[0;34m\u001b[0m\u001b[0m\n\u001b[0m",
      "\u001b[0;32m~/Desktop/grad/3rd/独立学习/XGraph/XGraph.py\u001b[0m in \u001b[0;36mload_graph\u001b[0;34m(self, name)\u001b[0m\n\u001b[1;32m    670\u001b[0m \u001b[0;34m\u001b[0m\u001b[0m\n\u001b[1;32m    671\u001b[0m     \u001b[0;32mdef\u001b[0m \u001b[0mload_graph\u001b[0m\u001b[0;34m(\u001b[0m\u001b[0mself\u001b[0m\u001b[0;34m,\u001b[0m \u001b[0mname\u001b[0m\u001b[0;34m=\u001b[0m\u001b[0;32mNone\u001b[0m\u001b[0;34m)\u001b[0m\u001b[0;34m:\u001b[0m\u001b[0;34m\u001b[0m\u001b[0;34m\u001b[0m\u001b[0m\n\u001b[0;32m--> 672\u001b[0;31m         \u001b[0mopened_model\u001b[0m \u001b[0;34m=\u001b[0m \u001b[0mself\u001b[0m\u001b[0;34m.\u001b[0m\u001b[0mgraph\u001b[0m\u001b[0;34m.\u001b[0m\u001b[0mload_graph\u001b[0m\u001b[0;34m(\u001b[0m\u001b[0mname\u001b[0m\u001b[0;34m)\u001b[0m\u001b[0;34m\u001b[0m\u001b[0;34m\u001b[0m\u001b[0m\n\u001b[0m\u001b[1;32m    673\u001b[0m         \u001b[0;32mreturn\u001b[0m \u001b[0mopened_model\u001b[0m\u001b[0;34m\u001b[0m\u001b[0;34m\u001b[0m\u001b[0m\n\u001b[1;32m    674\u001b[0m \u001b[0;34m\u001b[0m\u001b[0m\n",
      "\u001b[0;32m~/Desktop/grad/3rd/独立学习/XGraph/XGraph.py\u001b[0m in \u001b[0;36mload_graph\u001b[0;34m(self, file_name)\u001b[0m\n\u001b[1;32m    501\u001b[0m             \u001b[0;32mfor\u001b[0m \u001b[0mfile\u001b[0m \u001b[0;32min\u001b[0m \u001b[0mfiles\u001b[0m\u001b[0;34m:\u001b[0m\u001b[0;34m\u001b[0m\u001b[0;34m\u001b[0m\u001b[0m\n\u001b[1;32m    502\u001b[0m                 \u001b[0;32mif\u001b[0m \u001b[0mfile\u001b[0m\u001b[0;34m.\u001b[0m\u001b[0mendswith\u001b[0m\u001b[0;34m(\u001b[0m\u001b[0;34m'.object'\u001b[0m\u001b[0;34m)\u001b[0m\u001b[0;34m:\u001b[0m\u001b[0;34m\u001b[0m\u001b[0;34m\u001b[0m\u001b[0m\n\u001b[0;32m--> 503\u001b[0;31m                     \u001b[0mtemp\u001b[0m \u001b[0;34m=\u001b[0m \u001b[0mfile\u001b[0m\u001b[0;34m.\u001b[0m\u001b[0msplit\u001b[0m\u001b[0;34m(\u001b[0m\u001b[0;34m'_'\u001b[0m\u001b[0;34m)\u001b[0m\u001b[0;34m[\u001b[0m\u001b[0;36m1\u001b[0m\u001b[0;34m]\u001b[0m\u001b[0;34m\u001b[0m\u001b[0;34m\u001b[0m\u001b[0m\n\u001b[0m\u001b[1;32m    504\u001b[0m                     \u001b[0mdate\u001b[0m \u001b[0;34m=\u001b[0m \u001b[0mint\u001b[0m\u001b[0;34m(\u001b[0m\u001b[0mtemp\u001b[0m\u001b[0;34m.\u001b[0m\u001b[0msplit\u001b[0m\u001b[0;34m(\u001b[0m\u001b[0;34m'.'\u001b[0m\u001b[0;34m)\u001b[0m\u001b[0;34m[\u001b[0m\u001b[0;36m0\u001b[0m\u001b[0;34m]\u001b[0m\u001b[0;34m)\u001b[0m\u001b[0;34m\u001b[0m\u001b[0;34m\u001b[0m\u001b[0m\n\u001b[1;32m    505\u001b[0m                     \u001b[0;32mif\u001b[0m \u001b[0mdate\u001b[0m \u001b[0;34m>\u001b[0m \u001b[0mrecent\u001b[0m\u001b[0;34m:\u001b[0m\u001b[0;34m\u001b[0m\u001b[0;34m\u001b[0m\u001b[0m\n",
      "\u001b[0;31mIndexError\u001b[0m: list index out of range"
     ]
    }
   ],
   "source": [
    "node = bp.load_graph()"
   ]
  },
  {
   "cell_type": "code",
   "execution_count": 18,
   "metadata": {},
   "outputs": [
    {
     "ename": "NameError",
     "evalue": "name 'node' is not defined",
     "output_type": "error",
     "traceback": [
      "\u001b[0;31m---------------------------------------------------------------------------\u001b[0m",
      "\u001b[0;31mNameError\u001b[0m                                 Traceback (most recent call last)",
      "\u001b[0;32m<ipython-input-18-41ac38c51d75>\u001b[0m in \u001b[0;36m<module>\u001b[0;34m\u001b[0m\n\u001b[0;32m----> 1\u001b[0;31m \u001b[0mnode\u001b[0m\u001b[0;34m.\u001b[0m\u001b[0mn_dict\u001b[0m\u001b[0;34m\u001b[0m\u001b[0;34m\u001b[0m\u001b[0m\n\u001b[0m",
      "\u001b[0;31mNameError\u001b[0m: name 'node' is not defined"
     ]
    }
   ],
   "source": [
    "node.n_dict"
   ]
  },
  {
   "cell_type": "code",
   "execution_count": 19,
   "metadata": {},
   "outputs": [
    {
     "data": {
      "image/png": "[encoded data removed]",
      "text/plain": [
       "<Figure size 432x288 with 1 Axes>"
      ]
     },
     "metadata": {},
     "output_type": "display_data"
    }
   ],
   "source": [
    "bp.graph.show_graph(with_labels=True)"
   ]
  },
  {
   "cell_type": "markdown",
   "metadata": {},
   "source": [
    "## Graph"
   ]
  },
  {
   "cell_type": "code",
   "execution_count": 21,
   "metadata": {},
   "outputs": [],
   "source": [
    "G = Graph()\n",
    "G.create_graph([('A','B'),('A','C'),('B','D'),('B','E'),('D','G'),('D','H'),('C','F'),('F','I')])"
   ]
  },
  {
   "cell_type": "code",
   "execution_count": 22,
   "metadata": {},
   "outputs": [
    {
     "data": {
      "image/png": "[encoded data removed]",
      "text/plain": [
       "<Figure size 432x288 with 1 Axes>"
      ]
     },
     "metadata": {},
     "output_type": "display_data"
    }
   ],
   "source": [
    "G.show_graph(with_labels=True)"
   ]
  },
  {
   "cell_type": "code",
   "execution_count": 23,
   "metadata": {},
   "outputs": [
    {
     "data": {
      "text/plain": [
       "(['A',\n",
       "  'B',\n",
       "  'D',\n",
       "  'G',\n",
       "  'D',\n",
       "  'H',\n",
       "  'D',\n",
       "  'B',\n",
       "  'E',\n",
       "  'B',\n",
       "  'A',\n",
       "  'C',\n",
       "  'F',\n",
       "  'I',\n",
       "  'F',\n",
       "  'C',\n",
       "  'A'],\n",
       " [1, 2, 4, 7, 4, 8, 4, 2, 5, 2, 1, 3, 6, 9, 6, 3, 1],\n",
       " [0, 1, 2, 3, 2, 3, 2, 1, 2, 1, 0, 1, 2, 3, 2, 1, 0],\n",
       " [0, 1, 11, 2, 8, 12, 3, 5, 13])"
      ]
     },
     "execution_count": 23,
     "metadata": {},
     "output_type": "execute_result"
    }
   ],
   "source": [
    "G.Euler_tour(start='A')"
   ]
  },
  {
   "cell_type": "code",
   "execution_count": 24,
   "metadata": {},
   "outputs": [
    {
     "data": {
      "text/plain": [
       "{'A': 1, 'B': 2, 'C': 3, 'D': 4, 'E': 5, 'F': 6, 'G': 7, 'H': 8, 'I': 9}"
      ]
     },
     "execution_count": 24,
     "metadata": {},
     "output_type": "execute_result"
    }
   ],
   "source": [
    "G.bfs_label"
   ]
  },
  {
   "cell_type": "code",
   "execution_count": 25,
   "metadata": {},
   "outputs": [
    {
     "data": {
      "text/plain": [
       "{1: 0, 2: 1, 3: 1, 4: 2, 5: 2, 6: 2, 7: 3, 8: 3, 9: 3}"
      ]
     },
     "execution_count": 25,
     "metadata": {},
     "output_type": "execute_result"
    }
   ],
   "source": [
    "G.degree"
   ]
  },
  {
   "cell_type": "code",
   "execution_count": 26,
   "metadata": {},
   "outputs": [
    {
     "data": {
      "text/plain": [
       "[1, 2, 4, 7, 4, 8, 4, 2, 5, 2, 1, 3, 6, 9, 6, 3, 1]"
      ]
     },
     "execution_count": 26,
     "metadata": {},
     "output_type": "execute_result"
    }
   ],
   "source": [
    "G.E"
   ]
  },
  {
   "cell_type": "code",
   "execution_count": 27,
   "metadata": {},
   "outputs": [
    {
     "data": {
      "text/plain": [
       "[0, 1, 2, 3, 2, 3, 2, 1, 2, 1, 0, 1, 2, 3, 2, 1, 0]"
      ]
     },
     "execution_count": 27,
     "metadata": {},
     "output_type": "execute_result"
    }
   ],
   "source": [
    "G.D"
   ]
  },
  {
   "cell_type": "code",
   "execution_count": 28,
   "metadata": {},
   "outputs": [
    {
     "ename": "AttributeError",
     "evalue": "'Graph' object has no attribute 'first_occurrence'",
     "output_type": "error",
     "traceback": [
      "\u001b[0;31m---------------------------------------------------------------------------\u001b[0m",
      "\u001b[0;31mAttributeError\u001b[0m                            Traceback (most recent call last)",
      "\u001b[0;32m<ipython-input-28-4d0b956473c8>\u001b[0m in \u001b[0;36m<module>\u001b[0;34m\u001b[0m\n\u001b[0;32m----> 1\u001b[0;31m \u001b[0mG\u001b[0m\u001b[0;34m.\u001b[0m\u001b[0mfirst_occurrence\u001b[0m\u001b[0;34m(\u001b[0m\u001b[0;34m)\u001b[0m\u001b[0;34m\u001b[0m\u001b[0;34m\u001b[0m\u001b[0m\n\u001b[0m",
      "\u001b[0;31mAttributeError\u001b[0m: 'Graph' object has no attribute 'first_occurrence'"
     ]
    }
   ],
   "source": [
    "G.first_occurrence()"
   ]
  },
  {
   "cell_type": "code",
   "execution_count": 23,
   "metadata": {},
   "outputs": [
    {
     "data": {
      "text/plain": [
       "[0, 1, 11, 2, 8, 12, 3, 5, 13]"
      ]
     },
     "execution_count": 23,
     "metadata": {},
     "output_type": "execute_result"
    }
   ],
   "source": [
    "G.H"
   ]
  },
  {
   "cell_type": "code",
   "execution_count": 24,
   "metadata": {},
   "outputs": [
    {
     "data": {
      "text/plain": [
       "array([[0, 0, 0, 0, 0, 0],\n",
       "       [1, 1, 1, 1, 0, 0],\n",
       "       [2, 2, 2, 1, 0, 0],\n",
       "       [3, 2, 2, 0, 0, 0],\n",
       "       [2, 2, 1, 0, 0, 0],\n",
       "       [3, 2, 1, 0, 0, 0],\n",
       "       [2, 1, 1, 0, 0, 0],\n",
       "       [1, 1, 0, 0, 0, 0],\n",
       "       [2, 1, 0, 0, 0, 0],\n",
       "       [1, 0, 0, 0, 0, 0],\n",
       "       [0, 0, 0, 0, 0, 0],\n",
       "       [1, 1, 1, 0, 0, 0],\n",
       "       [2, 2, 1, 0, 0, 0],\n",
       "       [3, 2, 0, 0, 0, 0],\n",
       "       [2, 1, 0, 0, 0, 0],\n",
       "       [1, 0, 0, 0, 0, 0],\n",
       "       [0, 0, 0, 0, 0, 0]])"
      ]
     },
     "execution_count": 24,
     "metadata": {},
     "output_type": "execute_result"
    }
   ],
   "source": [
    "G.RMQ()"
   ]
  },
  {
   "cell_type": "code",
   "execution_count": 25,
   "metadata": {},
   "outputs": [
    {
     "data": {
      "text/plain": [
       "array([[0, 0, 0, 0, 0, 0],\n",
       "       [1, 1, 1, 1, 0, 0],\n",
       "       [2, 2, 2, 1, 0, 0],\n",
       "       [3, 2, 2, 0, 0, 0],\n",
       "       [2, 2, 1, 0, 0, 0],\n",
       "       [3, 2, 1, 0, 0, 0],\n",
       "       [2, 1, 1, 0, 0, 0],\n",
       "       [1, 1, 0, 0, 0, 0],\n",
       "       [2, 1, 0, 0, 0, 0],\n",
       "       [1, 0, 0, 0, 0, 0],\n",
       "       [0, 0, 0, 0, 0, 0],\n",
       "       [1, 1, 1, 0, 0, 0],\n",
       "       [2, 2, 1, 0, 0, 0],\n",
       "       [3, 2, 0, 0, 0, 0],\n",
       "       [2, 1, 0, 0, 0, 0],\n",
       "       [1, 0, 0, 0, 0, 0],\n",
       "       [0, 0, 0, 0, 0, 0]])"
      ]
     },
     "execution_count": 25,
     "metadata": {},
     "output_type": "execute_result"
    }
   ],
   "source": [
    "G.M_matrix"
   ]
  },
  {
   "cell_type": "code",
   "execution_count": 26,
   "metadata": {},
   "outputs": [
    {
     "data": {
      "text/plain": [
       "'D'"
      ]
     },
     "execution_count": 26,
     "metadata": {},
     "output_type": "execute_result"
    }
   ],
   "source": [
    "G.LCA('H','G')"
   ]
  },
  {
   "cell_type": "code",
   "execution_count": 32,
   "metadata": {},
   "outputs": [
    {
     "data": {
      "text/plain": [
       "['D']"
      ]
     },
     "execution_count": 32,
     "metadata": {},
     "output_type": "execute_result"
    }
   ],
   "source": [
    "G.LCA_shortest_path('D','D')"
   ]
  },
  {
   "cell_type": "code",
   "execution_count": null,
   "metadata": {},
   "outputs": [],
   "source": []
  }
 ],
 "metadata": {
  "kernelspec": {
   "display_name": "Python 3",
   "language": "python",
   "name": "python3"
  },
  "language_info": {
   "codemirror_mode": {
    "name": "ipython",
    "version": 3
   },
   "file_extension": ".py",
   "mimetype": "text/x-python",
   "name": "python",
   "nbconvert_exporter": "python",
   "pygments_lexer": "ipython3",
   "version": "3.7.2"
  }
 },
 "nbformat": 4,
 "nbformat_minor": 2
}
