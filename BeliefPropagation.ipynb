{
 "cells": [
  {
   "cell_type": "code",
   "execution_count": 1,
   "metadata": {},
   "outputs": [],
   "source": [
    "import networkx as nx\n",
    "import numpy as np\n",
    "import pickle\n",
    "\n",
    "from sklearn.metrics import roc_auc_score\n",
    "from scipy.special import logsumexp\n",
    "from XGraph import *\n",
    "from XBeliefProgation import *"
   ]
  },
  {
   "cell_type": "code",
   "execution_count": 2,
   "metadata": {},
   "outputs": [],
   "source": [
    "with open('SpEagle_edges_1.object', 'rb') as model_file:\n",
    "    e = pickle.load(model_file)\n",
    "    model_file.close()"
   ]
  },
  {
   "cell_type": "code",
   "execution_count": 3,
   "metadata": {},
   "outputs": [],
   "source": [
    "with open('SpEagle_nodes_1.object', 'rb') as model_file:\n",
    "    n = pickle.load(model_file)\n",
    "    model_file.close()"
   ]
  },
  {
   "cell_type": "code",
   "execution_count": 4,
   "metadata": {},
   "outputs": [],
   "source": [
    "with open('SpEagle_potentials_1.object', 'rb') as model_file:\n",
    "    p = pickle.load(model_file)\n",
    "    model_file.close()"
   ]
  },
  {
   "cell_type": "markdown",
   "metadata": {},
   "source": [
    "## 1. Init BP"
   ]
  },
  {
   "cell_type": "code",
   "execution_count": 5,
   "metadata": {},
   "outputs": [],
   "source": [
    "bp = BeliefPropagation(n, e, p, max_iters = 10)"
   ]
  },
  {
   "cell_type": "code",
   "execution_count": 6,
   "metadata": {},
   "outputs": [
    {
     "name": "stdout",
     "output_type": "stream",
     "text": [
      "1-th times\n",
      "difference in messages: 4.995082\n",
      "2-th times\n",
      "difference in messages: 5.514984\n",
      "3-th times\n",
      "difference in messages: 0.581881\n",
      "4-th times\n",
      "difference in messages: 0.000033\n",
      "BP has converged.\n"
     ]
    }
   ],
   "source": [
    "bp.standard_bp()"
   ]
  },
  {
   "cell_type": "code",
   "execution_count": 7,
   "metadata": {},
   "outputs": [
    {
     "name": "stdout",
     "output_type": "stream",
     "text": [
      "Begining Euler_tour...\n",
      "Euler_tour finished\n",
      "Begining RMQ\n",
      "Init adaptive BP finished\n"
     ]
    }
   ],
   "source": [
    "bp.init_ad_bp()"
   ]
  },
  {
   "cell_type": "code",
   "execution_count": 8,
   "metadata": {},
   "outputs": [
    {
     "name": "stdout",
     "output_type": "stream",
     "text": [
      "Model has been saved as bp_model.object\n"
     ]
    }
   ],
   "source": [
    "bp.save_model()"
   ]
  },
  {
   "cell_type": "markdown",
   "metadata": {},
   "source": [
    "## 2. Verify"
   ]
  },
  {
   "cell_type": "code",
   "execution_count": 13,
   "metadata": {},
   "outputs": [],
   "source": [
    "predict = bp.classify()"
   ]
  },
  {
   "cell_type": "code",
   "execution_count": 14,
   "metadata": {},
   "outputs": [],
   "source": [
    "organic_predictions = {}\n",
    "for k,v in predict.items():\n",
    "    if isinstance(k, tuple):\n",
    "        # remove the prefixes\n",
    "        u_id = k[0][1:]\n",
    "        p_id = k[1][1:]\n",
    "        \n",
    "        organic_predictions[(u_id, p_id)] = v\n",
    "    if isinstance(k, str) == 1 and k[0] == 'u':\n",
    "        u_id = k[1:]\n",
    "        organic_predictions[u_id] = v"
   ]
  },
  {
   "cell_type": "code",
   "execution_count": 15,
   "metadata": {},
   "outputs": [],
   "source": [
    "with open('SpEagle_ground_truth_1.object', 'rb') as model_file:\n",
    "    ground_truth = pickle.load(model_file)\n",
    "    model_file.close()"
   ]
  },
  {
   "cell_type": "code",
   "execution_count": 16,
   "metadata": {},
   "outputs": [
    {
     "name": "stdout",
     "output_type": "stream",
     "text": [
      "Use SpEagle without labeled data:\n",
      "User AUC = 0.733278\t\t\tReview AUC = 0.733278\n",
      "\n",
      "--------\n",
      "\n",
      "\u0007\n"
     ]
    }
   ],
   "source": [
    "print('Use SpEagle without labeled data:')\n",
    "#user_auc, review_auc = evaluate(ground_truth, organic_predictions)\n",
    "auc_speagle = evaluate(ground_truth, organic_predictions)\n",
    "user_auc = auc_speagle\n",
    "review_auc = auc_speagle\n",
    "print('User AUC = %f\\t\\t\\tReview AUC = %f' % (user_auc, review_auc))\n",
    "print('\\n--------\\n')\n",
    "print('\\a')"
   ]
  },
  {
   "cell_type": "code",
   "execution_count": 17,
   "metadata": {},
   "outputs": [],
   "source": [
    "w1 = 'u437'\n",
    "wv1 = 0.999\n",
    "w2 = 'u451'\n",
    "wv2 = 0.999\n",
    "v = 'p8'"
   ]
  },
  {
   "cell_type": "markdown",
   "metadata": {},
   "source": [
    "## 3. Adaptive BP"
   ]
  },
  {
   "cell_type": "code",
   "execution_count": 18,
   "metadata": {},
   "outputs": [],
   "source": [
    "with open('bp_model.object', 'rb') as model_file:\n",
    "    abp = pickle.load(model_file)\n",
    "    model_file.close()"
   ]
  },
  {
   "cell_type": "code",
   "execution_count": 19,
   "metadata": {},
   "outputs": [],
   "source": [
    "abp.modify_node(w1, wv1)"
   ]
  },
  {
   "cell_type": "code",
   "execution_count": 20,
   "metadata": {},
   "outputs": [],
   "source": [
    "abp.modify_node(w2, wv2)"
   ]
  },
  {
   "cell_type": "code",
   "execution_count": 49,
   "metadata": {},
   "outputs": [
    {
     "data": {
      "text/plain": [
       "array([ -3.11219893, -32.10207694])"
      ]
     },
     "execution_count": 49,
     "metadata": {},
     "output_type": "execute_result"
    }
   ],
   "source": [
    "abp.interest_node(v)"
   ]
  },
  {
   "cell_type": "markdown",
   "metadata": {},
   "source": [
    "## 4. Standard BP"
   ]
  },
  {
   "cell_type": "code",
   "execution_count": 22,
   "metadata": {},
   "outputs": [],
   "source": [
    "with open('bp_model.object', 'rb') as model_file:\n",
    "    sbp = pickle.load(model_file)\n",
    "    model_file.close()"
   ]
  },
  {
   "cell_type": "code",
   "execution_count": 23,
   "metadata": {},
   "outputs": [],
   "source": [
    "sbp.nodes.n_dict[w1]['prior'] = wv1\n",
    "sbp.nodes.n_dict[w2]['prior'] = wv2"
   ]
  },
  {
   "cell_type": "code",
   "execution_count": 24,
   "metadata": {},
   "outputs": [
    {
     "name": "stdout",
     "output_type": "stream",
     "text": [
      "1-th times\n",
      "difference in messages: 0.000044\n",
      "BP has converged.\n"
     ]
    }
   ],
   "source": [
    "sbp.standard_bp()"
   ]
  },
  {
   "cell_type": "code",
   "execution_count": 25,
   "metadata": {},
   "outputs": [
    {
     "data": {
      "text/plain": [
       "array([ -2.87970983, -32.75903478])"
      ]
     },
     "execution_count": 25,
     "metadata": {},
     "output_type": "execute_result"
    }
   ],
   "source": [
    "belief, _ = sbp.get_belief(v)\n",
    "belief"
   ]
  },
  {
   "cell_type": "code",
   "execution_count": 26,
   "metadata": {},
   "outputs": [],
   "source": [
    "with open('bp_model.object', 'rb') as model_file:\n",
    "    obp = pickle.load(model_file)\n",
    "    model_file.close()"
   ]
  },
  {
   "cell_type": "code",
   "execution_count": 27,
   "metadata": {},
   "outputs": [
    {
     "data": {
      "text/plain": [
       "array([ -2.87860035, -32.76893606])"
      ]
     },
     "execution_count": 27,
     "metadata": {},
     "output_type": "execute_result"
    }
   ],
   "source": [
    "belief, _ = obp.get_belief(v)\n",
    "belief"
   ]
  },
  {
   "cell_type": "markdown",
   "metadata": {},
   "source": [
    "## 5. No shortest path"
   ]
  },
  {
   "cell_type": "code",
   "execution_count": 30,
   "metadata": {},
   "outputs": [],
   "source": [
    "with open('bp_model.object', 'rb') as model_file:\n",
    "    nbp = pickle.load(model_file)\n",
    "    model_file.close()"
   ]
  },
  {
   "cell_type": "code",
   "execution_count": 31,
   "metadata": {},
   "outputs": [
    {
     "name": "stdout",
     "output_type": "stream",
     "text": [
      "Cannot find the path between u201 and p5\n"
     ]
    }
   ],
   "source": [
    "nbp.LCA('u201','p5')"
   ]
  },
  {
   "cell_type": "code",
   "execution_count": 32,
   "metadata": {},
   "outputs": [
    {
     "name": "stdout",
     "output_type": "stream",
     "text": [
      "Cannot find the path between u202 and p5\n"
     ]
    }
   ],
   "source": [
    "nbp.LCA('u202', 'p5')"
   ]
  },
  {
   "cell_type": "code",
   "execution_count": 33,
   "metadata": {},
   "outputs": [],
   "source": [
    "nbp.modify_node('u201', 0.999)\n",
    "nbp.modify_node('p5', 0.001)"
   ]
  },
  {
   "cell_type": "code",
   "execution_count": 50,
   "metadata": {},
   "outputs": [
    {
     "name": "stdout",
     "output_type": "stream",
     "text": [
      "Cannot find the path between u201 and p5\n",
      "Cannot find the path between p5 and u202\n",
      "Cannot find any path between modified node and visible node\n"
     ]
    },
    {
     "data": {
      "text/plain": [
       "array([-0.08255866, -7.21360717])"
      ]
     },
     "execution_count": 50,
     "metadata": {},
     "output_type": "execute_result"
    }
   ],
   "source": [
    "belief, _ = nbp.interest_node('u202')\n",
    "belief"
   ]
  },
  {
   "cell_type": "code",
   "execution_count": 35,
   "metadata": {},
   "outputs": [],
   "source": [
    "with open('bp_model.object', 'rb') as model_file:\n",
    "    sbbp = pickle.load(model_file)\n",
    "    model_file.close()"
   ]
  },
  {
   "cell_type": "code",
   "execution_count": 51,
   "metadata": {},
   "outputs": [
    {
     "data": {
      "text/plain": [
       "array([-0.08255866, -7.21360717])"
      ]
     },
     "execution_count": 51,
     "metadata": {},
     "output_type": "execute_result"
    }
   ],
   "source": [
    "belief, _ = sbbp.get_belief('u202')\n",
    "belief"
   ]
  },
  {
   "cell_type": "code",
   "execution_count": 52,
   "metadata": {},
   "outputs": [],
   "source": [
    "sbbp.nodes.n_dict['u201']['prior'] = 0.999\n",
    "sbbp.nodes.n_dict['p5']['prior'] = 0.001"
   ]
  },
  {
   "cell_type": "code",
   "execution_count": 53,
   "metadata": {},
   "outputs": [
    {
     "name": "stdout",
     "output_type": "stream",
     "text": [
      "1-th times\n",
      "difference in messages: 0.000008\n",
      "BP has converged.\n"
     ]
    }
   ],
   "source": [
    "sbbp.standard_bp()"
   ]
  },
  {
   "cell_type": "code",
   "execution_count": 54,
   "metadata": {},
   "outputs": [
    {
     "data": {
      "text/plain": [
       "array([-0.08255866, -7.21360717])"
      ]
     },
     "execution_count": 54,
     "metadata": {},
     "output_type": "execute_result"
    }
   ],
   "source": [
    "belief, _ = sbbp.get_belief('u202')\n",
    "belief"
   ]
  },
  {
   "cell_type": "markdown",
   "metadata": {},
   "source": [
    "## 6. Unit Test"
   ]
  },
  {
   "cell_type": "markdown",
   "metadata": {},
   "source": [
    "#### 1) Create Graph"
   ]
  },
  {
   "cell_type": "code",
   "execution_count": 46,
   "metadata": {},
   "outputs": [],
   "source": [
    "G1 = BP_Generator('s')\n",
    "G2 = BP_Generator('m')\n",
    "G3 = BP_Generator('l')"
   ]
  },
  {
   "cell_type": "markdown",
   "metadata": {},
   "source": [
    "#### 2) "
   ]
  },
  {
   "cell_type": "code",
   "execution_count": 47,
   "metadata": {},
   "outputs": [
    {
     "data": {
      "image/png": "[encoded data removed]",
      "text/plain": [
       "<Figure size 432x288 with 1 Axes>"
      ]
     },
     "metadata": {},
     "output_type": "display_data"
    }
   ],
   "source": [
    "G1.graph.show_graph(with_labels=True)"
   ]
  },
  {
   "cell_type": "code",
   "execution_count": 48,
   "metadata": {},
   "outputs": [
    {
     "ename": "NameError",
     "evalue": "name 'G1' is not defined",
     "output_type": "error",
     "traceback": [
      "\u001b[0;31m---------------------------------------------------------------------------\u001b[0m",
      "\u001b[0;31mNameError\u001b[0m                                 Traceback (most recent call last)",
      "\u001b[0;32m<ipython-input-48-486128db6656>\u001b[0m in \u001b[0;36m<module>\u001b[0;34m\u001b[0m\n\u001b[1;32m      1\u001b[0m \u001b[0mgraph_list\u001b[0m \u001b[0;34m=\u001b[0m \u001b[0;34m[\u001b[0m\u001b[0;34m'G1'\u001b[0m\u001b[0;34m,\u001b[0m \u001b[0;34m'G2'\u001b[0m\u001b[0;34m,\u001b[0m \u001b[0;34m'G3'\u001b[0m\u001b[0;34m]\u001b[0m\u001b[0;34m\u001b[0m\u001b[0;34m\u001b[0m\u001b[0m\n\u001b[0;32m----> 2\u001b[0;31m \u001b[0minit_unit_test\u001b[0m\u001b[0;34m(\u001b[0m\u001b[0mgraph_list\u001b[0m\u001b[0;34m)\u001b[0m\u001b[0;34m\u001b[0m\u001b[0;34m\u001b[0m\u001b[0m\n\u001b[0m",
      "\u001b[0;32m~/Desktop/grad/3rd/独立学习/XGraph/XBeliefProgation.py\u001b[0m in \u001b[0;36minit_unit_test\u001b[0;34m(graph_list)\u001b[0m\n\u001b[1;32m    235\u001b[0m     \u001b[0;32mfor\u001b[0m \u001b[0mm\u001b[0m \u001b[0;32min\u001b[0m \u001b[0mmodel_list\u001b[0m\u001b[0;34m:\u001b[0m\u001b[0;34m\u001b[0m\u001b[0;34m\u001b[0m\u001b[0m\n\u001b[1;32m    236\u001b[0m         \u001b[0mresult\u001b[0m \u001b[0;34m=\u001b[0m \u001b[0;34m{\u001b[0m\u001b[0;34m}\u001b[0m\u001b[0;34m\u001b[0m\u001b[0;34m\u001b[0m\u001b[0m\n\u001b[0;32m--> 237\u001b[0;31m         \u001b[0;32mwith\u001b[0m \u001b[0mopen\u001b[0m\u001b[0;34m(\u001b[0m\u001b[0mm\u001b[0m\u001b[0;34m,\u001b[0m \u001b[0;34m'rb'\u001b[0m\u001b[0;34m)\u001b[0m \u001b[0;32mas\u001b[0m \u001b[0mmodel_file\u001b[0m\u001b[0;34m:\u001b[0m\u001b[0;34m\u001b[0m\u001b[0;34m\u001b[0m\u001b[0m\n\u001b[0m\u001b[1;32m    238\u001b[0m             \u001b[0mbp\u001b[0m \u001b[0;34m=\u001b[0m \u001b[0mpickle\u001b[0m\u001b[0;34m.\u001b[0m\u001b[0mload\u001b[0m\u001b[0;34m(\u001b[0m\u001b[0mmodel_file\u001b[0m\u001b[0;34m)\u001b[0m\u001b[0;34m\u001b[0m\u001b[0;34m\u001b[0m\u001b[0m\n\u001b[1;32m    239\u001b[0m             \u001b[0mmodel_file\u001b[0m\u001b[0;34m.\u001b[0m\u001b[0mclose\u001b[0m\u001b[0;34m(\u001b[0m\u001b[0;34m)\u001b[0m\u001b[0;34m\u001b[0m\u001b[0;34m\u001b[0m\u001b[0m\n",
      "\u001b[0;32m~/Desktop/grad/3rd/独立学习/XGraph/XBeliefProgation.py\u001b[0m in \u001b[0;36m<module>\u001b[0;34m\u001b[0m\n",
      "\u001b[0;31mNameError\u001b[0m: name 'G1' is not defined"
     ]
    }
   ],
   "source": [
    "graph_list = ['G1', 'G2', 'G3']\n",
    "init_unit_test(graph_list)"
   ]
  },
  {
   "cell_type": "code",
   "execution_count": 114,
   "metadata": {},
   "outputs": [],
   "source": [
    "model_list = ['G1.object', 'G2.object', 'G3.object']"
   ]
  },
  {
   "cell_type": "code",
   "execution_count": 115,
   "metadata": {},
   "outputs": [],
   "source": [
    "def do_unit_test(model_list):\n",
    "    res = {}\n",
    "    for m in model_list:\n",
    "        result = {}\n",
    "        with open(m, 'rb') as model_file:\n",
    "            bp = pickle.load(model_file)\n",
    "            model_file.close()\n",
    "        all_nodes = bp.graph.Node.n_dict\n",
    "        w_seq, v_seq, w_value = wv_sequence(all_nodes)\n",
    "        # Original Belief\n",
    "        ori_belief = []\n",
    "        for v in range(1,len(v_seq)):\n",
    "            belief, _ = bp.get_belief(v_seq[v])\n",
    "            ori_belief.append(belief)\n",
    "        # standard BP\n",
    "        with open(m, 'rb') as model_file:\n",
    "            sbp = pickle.load(model_file)\n",
    "            model_file.close()\n",
    "        standard_belief = []\n",
    "        for w in range(1,len(w_seq)):\n",
    "            sbp.nodes.n_dict[w_seq[w-1]]['prior'] = w_value[w-1]\n",
    "            sbp.nodes.n_dict[w_seq[w]]['prior'] = w_value[w]\n",
    "            sbp.standard_bp(show_result=False)\n",
    "            belief, _ = sbp.get_belief(v_seq[w])\n",
    "            standard_belief.append(belief)\n",
    "        # adaptive BP\n",
    "        with open(m, 'rb') as model_file:\n",
    "            abp = pickle.load(model_file)\n",
    "            model_file.close()\n",
    "        adaptive_belief = []\n",
    "        for w in range(1,len(w_seq)):\n",
    "            abp.modify_node(w_seq[w-1], w_value[w-1])\n",
    "            abp.modify_node(w_seq[w], w_value[w])\n",
    "            belief = abp.interest_node(v_seq[w])\n",
    "            adaptive_belief.append(belief)\n",
    "        result['ori_belief'] = ori_belief\n",
    "        result['standard_belief'] = standard_belief\n",
    "        result['adaptive_belief'] = adaptive_belief\n",
    "        result['o_s_diff'] = np.sum(np.abs(np.subtract(ori_belief, standard_belief)))\n",
    "        result['o_a_diff'] = np.sum(np.abs(np.subtract(ori_belief, adaptive_belief)))\n",
    "        result['s_a_diff'] = np.sum(np.abs(np.subtract(standard_belief, adaptive_belief)))\n",
    "        res[str(m)] = result\n",
    "\n",
    "    return res"
   ]
  },
  {
   "cell_type": "code",
   "execution_count": 116,
   "metadata": {},
   "outputs": [],
   "source": [
    "def wv_sequence(all_nodes, node_per=0.02):\n",
    "    w_seq = []\n",
    "    v_seq = []\n",
    "    node_num = 10\n",
    "    node_list = list(all_nodes.keys())\n",
    "    for i in range(node_num):\n",
    "        choice_node = np.random.choice(node_list)\n",
    "        node_list.remove(choice_node)\n",
    "        w_seq.append(choice_node)\n",
    "    \n",
    "    node_list = list(all_nodes.keys())\n",
    "    for i in range(node_num):\n",
    "        choice_node = np.random.choice(node_list)\n",
    "        node_list.remove(choice_node)\n",
    "        v_seq.append(choice_node)\n",
    "    v = np.random.random(len(w_seq))\n",
    "    w_value = np.transpose(np.tile(v,(2,1)))\n",
    "    w_value[:,1] = 1- w_value[:,1]\n",
    "    w_value = np.log(w_value)\n",
    "    return w_seq, v_seq, w_value\n",
    "    "
   ]
  },
  {
   "cell_type": "code",
   "execution_count": 117,
   "metadata": {},
   "outputs": [],
   "source": [
    "res = do_unit_test(model_list) # tol = 1e-3"
   ]
  },
  {
   "cell_type": "code",
   "execution_count": 118,
   "metadata": {},
   "outputs": [
    {
     "data": {
      "text/plain": [
       "{'G1.object': {'ori_belief': [array([-5.9174244 , -2.35918955]),\n",
       "   array([-1.11657795, -1.78133669]),\n",
       "   array([-1.11356288, -1.84951215]),\n",
       "   array([-0.75629188, -2.31579097]),\n",
       "   array([-0.82956212, -2.18554535]),\n",
       "   array([-1.47183444, -1.63241796]),\n",
       "   array([-2.22470002, -4.41866967]),\n",
       "   array([-2.11449866, -4.90134191]),\n",
       "   array([-2.67007795, -3.57701313])],\n",
       "  'standard_belief': [array([-5.97440355, -2.23850288]),\n",
       "   array([-0.89062199, -2.05763301]),\n",
       "   array([-1.17404666, -1.71777332]),\n",
       "   array([-0.98596268, -1.91987618]),\n",
       "   array([-0.94036827, -1.96153017]),\n",
       "   array([-1.51523674, -1.53281305]),\n",
       "   array([-2.49373476, -3.48955275]),\n",
       "   array([-2.33839603, -4.12083012]),\n",
       "   array([-1.75635012, -6.91884007])],\n",
       "  'adaptive_belief': [array([-5.97440355, -2.23850288]),\n",
       "   array([-0.89062199, -2.05763301]),\n",
       "   array([-1.17404666, -1.71777332]),\n",
       "   array([-0.98596268, -1.91987618]),\n",
       "   array([-0.94036827, -1.96153017]),\n",
       "   array([-1.51523674, -1.53281305]),\n",
       "   array([-2.49373476, -3.48955275]),\n",
       "   array([-2.33839603, -4.12083012]),\n",
       "   array([-1.75635012, -6.91884007])],\n",
       "  'o_s_diff': 8.433670427170142,\n",
       "  'o_a_diff': 8.433670427170142,\n",
       "  's_a_diff': 1.5543122344752192e-15},\n",
       " 'G2.object': {'ori_belief': [array([-0.50347052, -4.99746336]),\n",
       "   array([-0.69169594, -2.91088169]),\n",
       "   array([-1.88524725, -0.98856236]),\n",
       "   array([-2.88624582, -1.15578229]),\n",
       "   array([-4.29579985, -3.26818323]),\n",
       "   array([-4.47788377, -0.49899285]),\n",
       "   array([-3.63776198, -3.42985184]),\n",
       "   array([-0.74967824, -4.00935962]),\n",
       "   array([-4.12604821, -3.52914358])],\n",
       "  'standard_belief': [array([-0.50316292, -4.99795539]),\n",
       "   array([-0.89503973, -2.68932392]),\n",
       "   array([-1.93618642, -0.95553349]),\n",
       "   array([-2.89581273, -1.13779412]),\n",
       "   array([-4.49361507, -3.041184  ]),\n",
       "   array([-4.50635754, -0.48237201]),\n",
       "   array([-3.63743943, -3.43004733]),\n",
       "   array([-0.77307196, -3.98739182]),\n",
       "   array([-4.28001571, -3.35306713])],\n",
       "  'adaptive_belief': [array([-0.50316292, -4.99795539]),\n",
       "   array([-0.89503973, -2.68932392]),\n",
       "   array([-1.93618642, -0.95553349]),\n",
       "   array([-2.89581273, -1.13779412]),\n",
       "   array([-4.49361507, -3.041184  ]),\n",
       "   array([-4.50635754, -0.48237201]),\n",
       "   array([-3.6387138 , -3.42927557]),\n",
       "   array([-0.77307196, -3.98739182]),\n",
       "   array([-4.2800034 , -3.35307406])],\n",
       "  'o_s_diff': 1.3830569011436227,\n",
       "  'o_a_diff': 1.3840476986605552,\n",
       "  's_a_diff': 0.0020653853828962454},\n",
       " 'G3.object': {'ori_belief': [array([-2.74187543, -0.60189486]),\n",
       "   array([-3.27078266, -5.56481838]),\n",
       "   array([-2.89594084, -0.68544697]),\n",
       "   array([-1.28805725, -2.4314285 ]),\n",
       "   array([-1.38275589, -1.4080985 ]),\n",
       "   array([-1.5883759 , -1.49656335]),\n",
       "   array([-5.19989383, -4.88215576]),\n",
       "   array([-1.37452573, -1.58175797]),\n",
       "   array([-3.64743262, -0.55997998])],\n",
       "  'standard_belief': [array([-2.74187543, -0.60189486]),\n",
       "   array([-3.27078266, -5.56481838]),\n",
       "   array([-2.89565063, -0.68565697]),\n",
       "   array([-1.28805376, -2.43143012]),\n",
       "   array([-1.38273166, -1.4081282 ]),\n",
       "   array([-1.58836068, -1.49659569]),\n",
       "   array([-5.19987795, -4.88219381]),\n",
       "   array([-1.3745097, -1.5817677]),\n",
       "   array([-3.64741791, -0.55998929])],\n",
       "  'adaptive_belief': [array([-2.74186711, -0.60189853]),\n",
       "   array([-3.27075409, -5.56487513]),\n",
       "   array([-2.89564673, -0.6856598 ]),\n",
       "   array([-1.28804949, -2.4314321 ]),\n",
       "   array([-1.38270355, -1.40816265]),\n",
       "   array([-1.5883578 , -1.49660181]),\n",
       "   array([-5.19987491, -4.8822011 ]),\n",
       "   array([-1.37569524, -1.58104846]),\n",
       "   array([-3.64719383, -0.56013115])],\n",
       "  'o_s_diff': 0.000710503142095753,\n",
       "  'o_a_diff': 0.0031219094014101056,\n",
       "  's_a_diff': 0.002462929244218204}}"
      ]
     },
     "execution_count": 118,
     "metadata": {},
     "output_type": "execute_result"
    }
   ],
   "source": [
    "res"
   ]
  },
  {
   "cell_type": "code",
   "execution_count": 107,
   "metadata": {},
   "outputs": [],
   "source": [
    "res1 = do_unit_test(model_list) # tol = 1e-5"
   ]
  },
  {
   "cell_type": "code",
   "execution_count": 108,
   "metadata": {},
   "outputs": [
    {
     "data": {
      "text/plain": [
       "{'G1.object': {'ori_belief': [array([-2.06717293, -1.02206467]),\n",
       "   array([-3.62907804, -3.16102504]),\n",
       "   array([-3.19441716, -2.93305932]),\n",
       "   array([-2.13215253, -3.6325153 ]),\n",
       "   array([-0.81386853, -2.23043979]),\n",
       "   array([-3.00548363, -0.91546885]),\n",
       "   array([-2.44499831, -3.64632117]),\n",
       "   array([-0.85423607, -2.12730805]),\n",
       "   array([-0.80611628, -2.3586096 ])],\n",
       "  'standard_belief': [array([-2.06753564, -1.02166198]),\n",
       "   array([-3.62995618, -3.15872502]),\n",
       "   array([-3.19502405, -2.93256312]),\n",
       "   array([-2.12480602, -3.68079468]),\n",
       "   array([-0.98633142, -2.23372607]),\n",
       "   array([-3.5560063 , -0.48316355]),\n",
       "   array([-2.21284325, -3.82266327]),\n",
       "   array([-1.08267536, -1.83957705]),\n",
       "   array([-0.91935621, -2.3805789 ])],\n",
       "  'adaptive_belief': [array([-2.06753564, -1.02166198]),\n",
       "   array([-3.62995618, -3.15872502]),\n",
       "   array([-3.19502405, -2.93256312]),\n",
       "   array([-2.12480602, -3.68079468]),\n",
       "   array([-0.98633142, -2.23372607]),\n",
       "   array([-3.5560063 , -0.48316355]),\n",
       "   array([-2.21284325, -3.82266327]),\n",
       "   array([-1.08267536, -1.83957705]),\n",
       "   array([-0.91935621, -2.3805789 ])],\n",
       "  'o_s_diff': 2.2791263843070615,\n",
       "  'o_a_diff': 2.279126384307061,\n",
       "  's_a_diff': 1.4432899320127035e-15},\n",
       " 'G2.object': {'ori_belief': [array([-1.54013553, -1.24480444]),\n",
       "   array([-4.97315779, -2.931297  ]),\n",
       "   array([-0.90711129, -2.10435543]),\n",
       "   array([-6.10404159, -2.51267175]),\n",
       "   array([-2.03828533, -0.89738064]),\n",
       "   array([-1.09732124, -4.3840792 ]),\n",
       "   array([-2.7444594 , -0.87815392]),\n",
       "   array([-0.98620335, -1.95725176]),\n",
       "   array([-7.09342729, -2.52901323])],\n",
       "  'standard_belief': [array([-1.54047249, -1.24449765]),\n",
       "   array([-4.92015777, -2.96562481]),\n",
       "   array([-0.90675993, -2.10479733]),\n",
       "   array([-6.12538328, -2.49868951]),\n",
       "   array([-2.05913286, -0.88660862]),\n",
       "   array([-1.05251344, -4.40799119]),\n",
       "   array([-2.55651946, -1.13961066]),\n",
       "   array([-0.98789637, -1.95339919]),\n",
       "   array([-7.09745158, -2.52729727])],\n",
       "  'adaptive_belief': [array([-1.54047249, -1.24449765]),\n",
       "   array([-4.92015777, -2.96562481]),\n",
       "   array([-0.90675993, -2.10479733]),\n",
       "   array([-6.12538328, -2.49868951]),\n",
       "   array([-2.05913286, -0.88660862]),\n",
       "   array([-1.05251344, -4.40799119]),\n",
       "   array([-2.55651946, -1.13961066]),\n",
       "   array([-0.98789637, -1.95339919]),\n",
       "   array([-7.09745158, -2.52729727])],\n",
       "  'o_s_diff': 0.6851106105864176,\n",
       "  'o_a_diff': 0.6851106105864165,\n",
       "  's_a_diff': 2.4424906541753444e-15},\n",
       " 'G3.object': {'ori_belief': [array([-2.18294343, -0.8878097 ]),\n",
       "   array([-1.77610073, -1.06060097]),\n",
       "   array([-0.58207776, -2.88066479]),\n",
       "   array([-3.29470993, -5.90389745]),\n",
       "   array([-0.77331058, -3.7420203 ]),\n",
       "   array([-1.53528347, -1.58817333]),\n",
       "   array([-4.22289834, -4.98524717]),\n",
       "   array([-2.10336168, -1.08678449]),\n",
       "   array([-3.63720244, -4.88662236])],\n",
       "  'standard_belief': [array([-2.18294343, -0.8878097 ]),\n",
       "   array([-1.77609805, -1.06060279]),\n",
       "   array([-0.58208676, -2.88064605]),\n",
       "   array([-3.29475113, -5.90383101]),\n",
       "   array([-0.77420331, -3.74118469]),\n",
       "   array([-1.53528587, -1.58816756]),\n",
       "   array([-4.23076145, -4.97190243]),\n",
       "   array([-2.10337647, -1.08676481]),\n",
       "   array([-3.37072991, -5.54755003])],\n",
       "  'adaptive_belief': [array([-2.18294373, -0.88780945]),\n",
       "   array([-1.77609805, -1.06060279]),\n",
       "   array([-0.58208676, -2.88064605]),\n",
       "   array([-3.29475113, -5.90383101]),\n",
       "   array([-0.77420331, -3.74118469]),\n",
       "   array([-1.53528587, -1.58816756]),\n",
       "   array([-4.23076163, -4.97190214]),\n",
       "   array([-2.10337647, -1.08676481]),\n",
       "   array([-3.37072766, -5.54755246])],\n",
       "  'o_s_diff': 0.950518900185088,\n",
       "  'o_a_diff': 0.9505245948075411,\n",
       "  's_a_diff': 5.694622453145115e-06}}"
      ]
     },
     "execution_count": 108,
     "metadata": {},
     "output_type": "execute_result"
    }
   ],
   "source": [
    "res1"
   ]
  },
  {
   "cell_type": "code",
   "execution_count": 87,
   "metadata": {},
   "outputs": [],
   "source": [
    "def set_new_prior(prior):\n",
    "    p = 1 - prior\n",
    "    pr = np.array(np.log([prior, p]))\n",
    "    return pr"
   ]
  },
  {
   "cell_type": "code",
   "execution_count": 51,
   "metadata": {},
   "outputs": [],
   "source": [
    "with open('G3.object', 'rb') as model_file:\n",
    "    bp3 = pickle.load(model_file)\n",
    "    model_file.close()"
   ]
  },
  {
   "cell_type": "code",
   "execution_count": 52,
   "metadata": {},
   "outputs": [],
   "source": [
    "w_seq, v_seq, w_value = wv_sequence(bp3.graph.Node.n_dict)"
   ]
  },
  {
   "cell_type": "code",
   "execution_count": null,
   "metadata": {},
   "outputs": [],
   "source": []
  },
  {
   "cell_type": "code",
   "execution_count": 53,
   "metadata": {},
   "outputs": [],
   "source": [
    "with open('G2.object', 'rb') as model_file:\n",
    "    bp = pickle.load(model_file)\n",
    "    model_file.close()"
   ]
  },
  {
   "cell_type": "code",
   "execution_count": 54,
   "metadata": {},
   "outputs": [],
   "source": [
    "with open('G2.object', 'rb') as model_file:\n",
    "    sbp = pickle.load(model_file)\n",
    "    model_file.close()"
   ]
  },
  {
   "cell_type": "code",
   "execution_count": 55,
   "metadata": {},
   "outputs": [],
   "source": [
    "with open('G2.object', 'rb') as model_file:\n",
    "    abp = pickle.load(model_file)\n",
    "    model_file.close()"
   ]
  },
  {
   "cell_type": "code",
   "execution_count": 56,
   "metadata": {},
   "outputs": [
    {
     "data": {
      "image/png": "[encoded data removed]",
      "text/plain": [
       "<Figure size 432x288 with 1 Axes>"
      ]
     },
     "metadata": {},
     "output_type": "display_data"
    }
   ],
   "source": [
    "sbp.graph.show_graph(with_labels=True)"
   ]
  },
  {
   "cell_type": "code",
   "execution_count": 57,
   "metadata": {},
   "outputs": [],
   "source": [
    "pri1 = set_new_prior(0.9)\n",
    "pri2 = set_new_prior(0.9)"
   ]
  },
  {
   "cell_type": "code",
   "execution_count": 58,
   "metadata": {},
   "outputs": [],
   "source": [
    "sbp.nodes.n_dict[27]['prior'] = pri1"
   ]
  },
  {
   "cell_type": "code",
   "execution_count": 59,
   "metadata": {},
   "outputs": [],
   "source": [
    "sbp.nodes.n_dict[91]['prior'] = pri2"
   ]
  },
  {
   "cell_type": "code",
   "execution_count": 60,
   "metadata": {},
   "outputs": [],
   "source": [
    "sbp.standard_bp(show_result=False)"
   ]
  },
  {
   "cell_type": "code",
   "execution_count": 61,
   "metadata": {},
   "outputs": [
    {
     "data": {
      "text/plain": [
       "array([-4.32563735, -3.76152073])"
      ]
     },
     "execution_count": 61,
     "metadata": {},
     "output_type": "execute_result"
    }
   ],
   "source": [
    "belief, _ = sbp.get_belief(8)\n",
    "belief"
   ]
  },
  {
   "cell_type": "code",
   "execution_count": null,
   "metadata": {},
   "outputs": [],
   "source": []
  },
  {
   "cell_type": "code",
   "execution_count": 62,
   "metadata": {},
   "outputs": [],
   "source": [
    "abp.modify_node(27, pri1)"
   ]
  },
  {
   "cell_type": "code",
   "execution_count": 63,
   "metadata": {},
   "outputs": [],
   "source": [
    "abp.modify_node(91, pri2)"
   ]
  },
  {
   "cell_type": "code",
   "execution_count": 64,
   "metadata": {},
   "outputs": [
    {
     "data": {
      "text/plain": [
       "array([-4.32515229, -3.76195149])"
      ]
     },
     "execution_count": 64,
     "metadata": {},
     "output_type": "execute_result"
    }
   ],
   "source": [
    "abp.interest_node(8)"
   ]
  },
  {
   "cell_type": "code",
   "execution_count": 65,
   "metadata": {},
   "outputs": [
    {
     "data": {
      "text/plain": [
       "array([-2.08672141, -0.13249572])"
      ]
     },
     "execution_count": 65,
     "metadata": {},
     "output_type": "execute_result"
    }
   ],
   "source": [
    "bp.nodes.n_dict[8]['prior']"
   ]
  },
  {
   "cell_type": "code",
   "execution_count": 66,
   "metadata": {},
   "outputs": [
    {
     "data": {
      "text/plain": [
       "array([-4.33292983, -3.74856721])"
      ]
     },
     "execution_count": 66,
     "metadata": {},
     "output_type": "execute_result"
    }
   ],
   "source": [
    "belief, _ = bp.get_belief(8)\n",
    "belief"
   ]
  },
  {
   "cell_type": "code",
   "execution_count": 67,
   "metadata": {},
   "outputs": [],
   "source": [
    "def adaptive_bp(w1, p1, w2, p2, v, model_name='G2.object', with_labels=True):\n",
    "    with open(model_name, 'rb') as model_file:\n",
    "        bp = pickle.load(model_file)\n",
    "        model_file.close()\n",
    "    with open(model_name, 'rb') as model_file:\n",
    "        sbp = pickle.load(model_file)\n",
    "        model_file.close()\n",
    "    with open(model_name, 'rb') as model_file:\n",
    "        abp = pickle.load(model_file)\n",
    "        model_file.close()\n",
    "    sbp.graph.show_graph(with_labels=with_labels)\n",
    "    \n",
    "    result = {}\n",
    "    # Setting Prior\n",
    "    pri1 = set_new_prior(p1)\n",
    "    pri2 = set_new_prior(p2)\n",
    "    \n",
    "    # Standard Belief Propagation\n",
    "    sbp.nodes.n_dict[w1]['prior'] = pri1\n",
    "    sbp.nodes.n_dict[w2]['prior'] = pri2\n",
    "    sbp.standard_bp(show_result=False)\n",
    "    belief, _ = sbp.get_belief(v)\n",
    "    result['Standard_BP'] = belief\n",
    "    \n",
    "    # Adaptive Belief Propagation\n",
    "    abp.modify_node(w1, pri1)\n",
    "    abp.modify_node(w2, pri2)\n",
    "    res_a = abp.interest_node(v)\n",
    "    result['Adaptive_BP'] = res_a\n",
    "    \n",
    "    ori_b, _ = bp.get_belief(v)\n",
    "    # Original belief\n",
    "    result['Original_belief'] = ori_b\n",
    "    \n",
    "    return result"
   ]
  },
  {
   "cell_type": "code",
   "execution_count": null,
   "metadata": {},
   "outputs": [],
   "source": []
  },
  {
   "cell_type": "code",
   "execution_count": null,
   "metadata": {},
   "outputs": [],
   "source": []
  }
 ],
 "metadata": {
  "kernelspec": {
   "display_name": "Python 3",
   "language": "python",
   "name": "python3"
  },
  "language_info": {
   "codemirror_mode": {
    "name": "ipython",
    "version": 3
   },
   "file_extension": ".py",
   "mimetype": "text/x-python",
   "name": "python",
   "nbconvert_exporter": "python",
   "pygments_lexer": "ipython3",
   "version": "3.7.2"
  }
 },
 "nbformat": 4,
 "nbformat_minor": 2
}
